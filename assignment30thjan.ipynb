{
 "cells": [
  {
   "cell_type": "code",
   "execution_count": 5,
   "id": "2590ea31-d515-4809-855e-888da65614b6",
   "metadata": {},
   "outputs": [
    {
     "name": "stdin",
     "output_type": "stream",
     "text": [
      "Enter your percentage 59\n"
     ]
    },
    {
     "name": "stdout",
     "output_type": "stream",
     "text": [
      "D\n"
     ]
    }
   ],
   "source": [
    "#Write a program to accept percentage from the users and display the grade accordingto the following criteria:\n",
    "percentage=float(input(\"Enter your percentage\"))\n",
    "if percentage>90:\n",
    "    print('A')\n",
    "elif percentage>80 and percentage <=90:\n",
    "    print('B')\n",
    "elif percentage>=60 and percentage<=80:\n",
    "    print('C')\n",
    "else:\n",
    "    print ('D')"
   ]
  },
  {
   "cell_type": "code",
   "execution_count": 10,
   "id": "d2ea03d8-4925-4d3a-8fad-9b9452e2e0b6",
   "metadata": {},
   "outputs": [
    {
     "name": "stdin",
     "output_type": "stream",
     "text": [
      "enter your cost price 80000\n"
     ]
    },
    {
     "name": "stdout",
     "output_type": "stream",
     "text": [
      "10%\n"
     ]
    }
   ],
   "source": [
    "#Write a program to accept the cost price of a bike and display the road tax to be paid according to the following criteria: \n",
    "cost_price=float(input(\"enter your cost price\"))\n",
    "if cost_price>100000:\n",
    "    print('15%')\n",
    "elif cost_price>50000 and cost_price<=100000:\n",
    "    print('10%')\n",
    "else:\n",
    "    print('5%')"
   ]
  },
  {
   "cell_type": "code",
   "execution_count": 27,
   "id": "b64be6c1-0928-4d29-9fad-17b33704e995",
   "metadata": {},
   "outputs": [
    {
     "name": "stdin",
     "output_type": "stream",
     "text": [
      "Enter the name of a city (delhi, jaipur, agra):  delhi\n"
     ]
    },
    {
     "name": "stdout",
     "output_type": "stream",
     "text": [
      "The monuments of delhi are:\n",
      "Red Fort\n"
     ]
    }
   ],
   "source": [
    "monuments = {\n",
    "    \"delhi\": [\"Red Fort\"],\n",
    "    \"jaipur\": [\"Jal Mahal\"],\n",
    "    \"agra\": [\"Taj Mahal\"]\n",
    "}\n",
    "\n",
    "city = input(\"Enter the name of a city (delhi, jaipur, agra): \")\n",
    "\n",
    "if city in monuments:\n",
    "    print(f\"The monuments of {city} are:\")\n",
    "    for monument in monuments[city]:\n",
    "        print(monument)\n",
    "else:\n",
    "    print(\"Sorry, we do not have information on that city.\")\n"
   ]
  },
  {
   "cell_type": "code",
   "execution_count": 29,
   "id": "43e829bf-dea1-4a2a-a915-69b09ac866c0",
   "metadata": {},
   "outputs": [
    {
     "name": "stdin",
     "output_type": "stream",
     "text": [
      "Enter a number 5\n"
     ]
    },
    {
     "name": "stdout",
     "output_type": "stream",
     "text": [
      "The number can be divided by 3 0 times before it is less than or equal to 10.\n"
     ]
    }
   ],
   "source": [
    "#check how many times a given number can be divided by 3 before it is less than or equal to 10.\n",
    "number = int(input(\"Enter a number\"))\n",
    "count = 0\n",
    "\n",
    "while number > 10:\n",
    "    number = number / 3\n",
    "    count += 1\n",
    "\n",
    "print(f\"The number can be divided by 3 {count} times before it is less than or equal to 10.\")\n"
   ]
  },
  {
   "cell_type": "code",
   "execution_count": 30,
   "id": "99b24658-d0e9-4f7e-9a18-073d76687fa5",
   "metadata": {},
   "outputs": [
    {
     "name": "stdout",
     "output_type": "stream",
     "text": [
      "1\n",
      "2\n",
      "3\n",
      "4\n",
      "5\n"
     ]
    }
   ],
   "source": [
    "# Why and when to use while loop in pyhton give a detailled description with example.\n",
    "#A while loop is a control flow statement in Python that allows you to execute a block of code repeatedly as long as a certain condition is true. In other words, while loops are used to repeatedly execute a block of code until a certain condition is met. The condition is evaluated at the beginning of each iteration of the loop, and if it is true, the code block is executed. If it is false, the loop is exited and the program continues to the next statement after the loop.\n",
    "i = 1\n",
    "while i <= 5:\n",
    "    print(i)\n",
    "    i += 1\n"
   ]
  },
  {
   "cell_type": "code",
   "execution_count": 31,
   "id": "a82ca0f4-8bb8-4070-becc-903afe90c55c",
   "metadata": {},
   "outputs": [
    {
     "name": "stdout",
     "output_type": "stream",
     "text": [
      "1 \n",
      "1 2 \n",
      "1 2 3 \n",
      "1 2 3 4 \n",
      "1 2 3 4 5 \n"
     ]
    }
   ],
   "source": [
    "#Use nested while loop to print 3 different pattern.\n",
    "i = 1\n",
    "while i <= 5:\n",
    "    j = 1\n",
    "    while j <= i:\n",
    "        print(j, end=\" \")\n",
    "        j += 1\n",
    "    print()\n",
    "    i += 1\n"
   ]
  },
  {
   "cell_type": "code",
   "execution_count": null,
   "id": "bfdcaf6a-bd90-49ff-87a1-f905d5c71f80",
   "metadata": {},
   "outputs": [],
   "source": [
    "# Reverse a while loop to display number from 10 to 1."
   ]
  }
 ],
 "metadata": {
  "kernelspec": {
   "display_name": "Python 3 (ipykernel)",
   "language": "python",
   "name": "python3"
  },
  "language_info": {
   "codemirror_mode": {
    "name": "ipython",
    "version": 3
   },
   "file_extension": ".py",
   "mimetype": "text/x-python",
   "name": "python",
   "nbconvert_exporter": "python",
   "pygments_lexer": "ipython3",
   "version": "3.10.8"
  }
 },
 "nbformat": 4,
 "nbformat_minor": 5
}
